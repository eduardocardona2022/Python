{
  "nbformat": 4,
  "nbformat_minor": 0,
  "metadata": {
    "colab": {
      "provenance": [],
      "authorship_tag": "ABX9TyOc346Vv//woG4NXqKyN66o",
      "include_colab_link": true
    },
    "kernelspec": {
      "name": "python3",
      "display_name": "Python 3"
    },
    "language_info": {
      "name": "python"
    }
  },
  "cells": [
    {
      "cell_type": "markdown",
      "metadata": {
        "id": "view-in-github",
        "colab_type": "text"
      },
      "source": [
        "<a href=\"https://colab.research.google.com/github/eduardocardona2022/Python/blob/main/Herencia.ipynb\" target=\"_parent\"><img src=\"https://colab.research.google.com/assets/colab-badge.svg\" alt=\"Open In Colab\"/></a>"
      ]
    },
    {
      "cell_type": "code",
      "execution_count": null,
      "metadata": {
        "id": "WOgcDg_GHzTk",
        "outputId": "3de5c2e2-724e-4bc1-f8d3-6bf207db240c",
        "colab": {
          "base_uri": "https://localhost:8080/"
        }
      },
      "outputs": [
        {
          "output_type": "stream",
          "name": "stdout",
          "text": [
            "Fido dice Guau\n",
            "Misi dice Miau\n"
          ]
        }
      ],
      "source": [
        "class Animal:\n",
        "    def __init__(self, nombre):\n",
        "        self.nombre = nombre\n",
        "\n",
        "    def hacer_sonido(self):\n",
        "        pass\n",
        "\n",
        "class Perro(Animal):\n",
        "    def hacer_sonido(self):\n",
        "        return \"Guau\"\n",
        "\n",
        "class Gato(Animal):\n",
        "    def hacer_sonido(self):\n",
        "        return \"Miau\"\n",
        "\n",
        "perro = Perro(\"Fido\")\n",
        "gato = Gato(\"Misi\")\n",
        "\n",
        "print(perro.nombre, \"dice\", perro.hacer_sonido())\n",
        "print(gato.nombre, \"dice\", gato.hacer_sonido())"
      ]
    }
  ]
}